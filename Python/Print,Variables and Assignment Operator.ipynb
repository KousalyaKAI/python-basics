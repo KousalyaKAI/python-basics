{
 "cells": [
  {
   "cell_type": "code",
   "execution_count": 1,
   "id": "a3a8e4ad",
   "metadata": {},
   "outputs": [
    {
     "name": "stdout",
     "output_type": "stream",
     "text": [
      "Hi!, Welcome!..\n"
     ]
    }
   ],
   "source": [
    "print(\"Hi!, Welcome!..\")"
   ]
  },
  {
   "cell_type": "code",
   "execution_count": 3,
   "id": "d80f617d",
   "metadata": {},
   "outputs": [
    {
     "name": "stdout",
     "output_type": "stream",
     "text": [
      "Hi Kousalya\n"
     ]
    }
   ],
   "source": [
    "a=\"Kousalya\"\n",
    "print(\"Hi\",a)"
   ]
  },
  {
   "cell_type": "code",
   "execution_count": 5,
   "id": "45931d30",
   "metadata": {},
   "outputs": [
    {
     "name": "stdout",
     "output_type": "stream",
     "text": [
      "The number is 10\n"
     ]
    }
   ],
   "source": [
    "a=10\n",
    "print(\"The number is\",a)"
   ]
  },
  {
   "cell_type": "code",
   "execution_count": 6,
   "id": "11c099a2",
   "metadata": {},
   "outputs": [
    {
     "name": "stdout",
     "output_type": "stream",
     "text": [
      "sds2343<>?:%*#\n"
     ]
    }
   ],
   "source": [
    "print(\"sds2343<>?:%*#\")"
   ]
  },
  {
   "cell_type": "code",
   "execution_count": 13,
   "id": "4bc6efc9",
   "metadata": {},
   "outputs": [
    {
     "name": "stdout",
     "output_type": "stream",
     "text": [
      "add\n",
      "The sum is  27\n"
     ]
    }
   ],
   "source": [
    "num1=12\n",
    "num2=15\n",
    "add=num1+num2\n",
    "print(\"add\")\n",
    "print(\"The sum is \",add)"
   ]
  },
  {
   "cell_type": "code",
   "execution_count": 12,
   "id": "307a87ba",
   "metadata": {},
   "outputs": [
    {
     "name": "stdout",
     "output_type": "stream",
     "text": [
      "The sum of 12 and 15 is 27\n"
     ]
    }
   ],
   "source": [
    "num1=12\n",
    "num2=15\n",
    "sum=num1+num2\n",
    "print(\"The sum of {0} and {1} is {2}\".format(num1, num2, sum))"
   ]
  },
  {
   "cell_type": "code",
   "execution_count": 16,
   "id": "1e869c2b",
   "metadata": {},
   "outputs": [
    {
     "name": "stdout",
     "output_type": "stream",
     "text": [
      "Hi Kousalya K!\n"
     ]
    }
   ],
   "source": [
    "firstName = \"Kousalya\"\n",
    "SecondName = \"K\"\n",
    "print(\"Hi {0} {1}!\".format(firstName,SecondName))"
   ]
  },
  {
   "cell_type": "code",
   "execution_count": 22,
   "id": "c4138097",
   "metadata": {},
   "outputs": [
    {
     "name": "stdout",
     "output_type": "stream",
     "text": [
      "The addition of two numbers\n",
      "The number1: 10\n",
      "The number2: 15\n",
      "The Answer: 25\n"
     ]
    }
   ],
   "source": [
    "print(\"The addition of two numbers\")\n",
    "num1 = 10\n",
    "print(\"The number1:\",num1)\n",
    "num = 20\n",
    "print(\"The number2:\",num2)\n",
    "add = num1+num2\n",
    "print(\"The Answer:\",add)"
   ]
  },
  {
   "cell_type": "code",
   "execution_count": null,
   "id": "7fe05df3",
   "metadata": {},
   "outputs": [],
   "source": []
  },
  {
   "cell_type": "code",
   "execution_count": null,
   "id": "e5392d72",
   "metadata": {},
   "outputs": [],
   "source": []
  }
 ],
 "metadata": {
  "kernelspec": {
   "display_name": "Python 3 (ipykernel)",
   "language": "python",
   "name": "python3"
  },
  "language_info": {
   "codemirror_mode": {
    "name": "ipython",
    "version": 3
   },
   "file_extension": ".py",
   "mimetype": "text/x-python",
   "name": "python",
   "nbconvert_exporter": "python",
   "pygments_lexer": "ipython3",
   "version": "3.11.5"
  }
 },
 "nbformat": 4,
 "nbformat_minor": 5
}
