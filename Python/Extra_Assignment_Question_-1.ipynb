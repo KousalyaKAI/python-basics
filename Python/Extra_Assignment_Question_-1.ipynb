{
 "cells": [
  {
   "cell_type": "code",
   "execution_count": 2,
   "id": "52e0ad27",
   "metadata": {},
   "outputs": [
    {
     "name": "stdout",
     "output_type": "stream",
     "text": [
      "HOPE AI\n"
     ]
    }
   ],
   "source": [
    "#print Statement\n",
    "#HOPE AI\n",
    "\n",
    "print(\"HOPE AI\")"
   ]
  },
  {
   "cell_type": "code",
   "execution_count": 1,
   "id": "8d3ddf07",
   "metadata": {},
   "outputs": [
    {
     "name": "stdout",
     "output_type": "stream",
     "text": [
      "Enter your institute name? : HOPE AI\n"
     ]
    },
    {
     "data": {
      "text/plain": [
       "'HOPE AI'"
      ]
     },
     "execution_count": 1,
     "metadata": {},
     "output_type": "execute_result"
    }
   ],
   "source": [
    "# Buy input\n",
    "#Enter your institute name? : HOPE AI\n",
    "input(\"Enter your institute name? : \")"
   ]
  },
  {
   "cell_type": "code",
   "execution_count": 8,
   "id": "cd691bf4",
   "metadata": {},
   "outputs": [
    {
     "name": "stdout",
     "output_type": "stream",
     "text": [
      "Enter your name: Raj\n",
      "Enter your age: 15\n",
      "Enter your school name: Guru School\n",
      "Enter your degree: B.E CSE\n"
     ]
    }
   ],
   "source": [
    "#Buy inputs\n",
    "#Enter your name: Raj\n",
    "#Enter your age: 15\n",
    "#Enter your school name: Guru school\n",
    "#Enter your degree: B.E CSE\n",
    "\n",
    "name = input(\"Enter your name: \")\n",
    "age = input(\"Enter your age: \")\n",
    "school = input(\"Enter your school name: \")\n",
    "degree = input(\"Enter your degree: \")\n"
   ]
  },
  {
   "cell_type": "code",
   "execution_count": 4,
   "id": "df7baf22",
   "metadata": {},
   "outputs": [
    {
     "name": "stdout",
     "output_type": "stream",
     "text": [
      "Enter your name: Raj\n",
      "Enter your age: 15\n",
      "Enter your school name: Guru School\n",
      "Enter your degree: BE CSE\n",
      "Entered Name is Raj\n",
      "Entered Age is 15\n",
      "Entered School name is Guru School\n",
      "Entered Degree is BE CSE\n"
     ]
    }
   ],
   "source": [
    "#Buy inputs\n",
    "#Enter your name: Raj\n",
    "#Enter your age: 15\n",
    "#Enter your school name: Guru school\n",
    "#Enter your degree: B.E CSE\n",
    "\n",
    "name = input(\"Enter your name: \")\n",
    "age = input(\"Enter your age: \")\n",
    "school = input(\"Enter your school name: \")\n",
    "degree = input(\"Enter your degree: \")\n",
    "\n",
    "print(\"Entered Name is\",name)\n",
    "print(\"Entered Age is\",age)\n",
    "print(\"Entered School name is\",school)\n",
    "print(\"Entered Degree is\",degree)\n"
   ]
  },
  {
   "cell_type": "code",
   "execution_count": 5,
   "id": "95adabd8",
   "metadata": {},
   "outputs": [
    {
     "name": "stdout",
     "output_type": "stream",
     "text": [
      "a= 43\n",
      "b= 34\n",
      "add= 77\n"
     ]
    }
   ],
   "source": [
    "#Addition\n",
    "#a= 43\n",
    "#b= 34\n",
    "#add = 77\n",
    "\n",
    "a=43\n",
    "print(\"a=\",a)\n",
    "b=34\n",
    "print(\"b=\",b)\n",
    "add = a + b\n",
    "print(\"add=\",add)\n",
    "\n"
   ]
  },
  {
   "cell_type": "code",
   "execution_count": 6,
   "id": "17a1ad05",
   "metadata": {},
   "outputs": [
    {
     "name": "stdout",
     "output_type": "stream",
     "text": [
      "a= 43\n",
      "b= 34\n",
      "Sub= 9\n"
     ]
    }
   ],
   "source": [
    "#Subtraction\n",
    "#a= 43\n",
    "#b= 34\n",
    "#Sub = 9\n",
    "\n",
    "a= 43\n",
    "print(\"a=\",a)\n",
    "b= 34\n",
    "print(\"b=\",b)\n",
    "Sub = a - b\n",
    "print(\"Sub=\",Sub)\n"
   ]
  },
  {
   "cell_type": "code",
   "execution_count": 7,
   "id": "c2f70d92",
   "metadata": {},
   "outputs": [
    {
     "name": "stdout",
     "output_type": "stream",
     "text": [
      "a= 63\n",
      "b= 97\n",
      "Mul= 6111\n"
     ]
    }
   ],
   "source": [
    "#Multiplication\n",
    "#a= 63\n",
    "#b= 97\n",
    "#Mul = 6111\n",
    "\n",
    "a= 63\n",
    "b= 97\n",
    "print(\"a=\",a)\n",
    "print(\"b=\",b)\n",
    "Mul = a * b\n",
    "print(\"Mul=\",Mul)\n",
    "\n"
   ]
  },
  {
   "cell_type": "code",
   "execution_count": 14,
   "id": "efa44c50",
   "metadata": {},
   "outputs": [
    {
     "name": "stdout",
     "output_type": "stream",
     "text": [
      "a= 76\n",
      "b= 31\n",
      "Div = 2.4516129032258065\n"
     ]
    }
   ],
   "source": [
    "#Division\n",
    "#a= 76\n",
    "#b= 31\n",
    "#Float Div = 2.4516129032258065\n",
    "\n",
    "a = 76\n",
    "b = 31\n",
    "print(\"a=\",a)\n",
    "print(\"b=\",b)\n",
    "Div = a/b\n",
    "print(\"Div =\",Div)\n"
   ]
  },
  {
   "cell_type": "code",
   "execution_count": 17,
   "id": "136f5ba2",
   "metadata": {},
   "outputs": [
    {
     "name": "stdout",
     "output_type": "stream",
     "text": [
      "a= 76\n",
      "b= 31\n",
      "Floor Div = 2\n"
     ]
    }
   ],
   "source": [
    "#Floor division\n",
    "#a= 76\n",
    "#b= 31\n",
    "#Floor Div = 2\n",
    "\n",
    "a= 76\n",
    "b= 31\n",
    "print(\"a=\",a)\n",
    "print(\"b=\",b)\n",
    "Floor_Div = a//b\n",
    "print(\"Floor Div =\",Floor_Div)\n"
   ]
  },
  {
   "cell_type": "code",
   "execution_count": 18,
   "id": "926004a3",
   "metadata": {},
   "outputs": [
    {
     "name": "stdout",
     "output_type": "stream",
     "text": [
      "a= 76\n",
      "b= 31\n",
      "Modulo = 14\n"
     ]
    }
   ],
   "source": [
    "#Modulo\n",
    "#a= 76\n",
    "#b= 31\n",
    "#Modulo = 14\n",
    "\n",
    "a= 76\n",
    "b= 31\n",
    "print(\"a=\",a)\n",
    "print(\"b=\",b)\n",
    "Modulo = a%b\n",
    "print(\"Modulo =\",Modulo)"
   ]
  },
  {
   "cell_type": "code",
   "execution_count": 26,
   "id": "580a1587",
   "metadata": {},
   "outputs": [
    {
     "name": "stdout",
     "output_type": "stream",
     "text": [
      "a= 4\n",
      "b= 4\n",
      "Power = 256\n"
     ]
    }
   ],
   "source": [
    "#Power\n",
    "#a= 4\n",
    "#b= 4\n",
    "#Power = 256\n",
    "\n",
    "a= 4\n",
    "b= 4\n",
    "print(\"a=\",a)\n",
    "print(\"b=\",b)\n",
    "Power = pow(a,b) #using pow()\n",
    "print(\"Power =\",Power)\n",
    "\n",
    "\n"
   ]
  },
  {
   "cell_type": "code",
   "execution_count": 27,
   "id": "e8dcddb1",
   "metadata": {},
   "outputs": [
    {
     "name": "stdout",
     "output_type": "stream",
     "text": [
      "a= 4\n",
      "b= 4\n",
      "Power = 256\n"
     ]
    }
   ],
   "source": [
    "#using for loop\n",
    "#Power\n",
    "#a= 4\n",
    "#b= 4\n",
    "#Power = 256\n",
    "\n",
    "a= 4\n",
    "b= 4\n",
    "print(\"a=\",a)\n",
    "print(\"b=\",b)\n",
    "result = 1\n",
    "for b in range(b, 0, -1): # b=4,  -1  4,3,2,1\n",
    "    result *= a #result = result * a   a=4\n",
    "print(\"Power =\",result)"
   ]
  },
  {
   "cell_type": "code",
   "execution_count": null,
   "id": "c62a3275",
   "metadata": {},
   "outputs": [],
   "source": []
  }
 ],
 "metadata": {
  "kernelspec": {
   "display_name": "Python 3 (ipykernel)",
   "language": "python",
   "name": "python3"
  },
  "language_info": {
   "codemirror_mode": {
    "name": "ipython",
    "version": 3
   },
   "file_extension": ".py",
   "mimetype": "text/x-python",
   "name": "python",
   "nbconvert_exporter": "python",
   "pygments_lexer": "ipython3",
   "version": "3.11.5"
  }
 },
 "nbformat": 4,
 "nbformat_minor": 5
}
