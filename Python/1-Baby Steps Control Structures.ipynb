{
 "cells": [
  {
   "cell_type": "code",
   "execution_count": 1,
   "id": "e1ce76e8",
   "metadata": {},
   "outputs": [],
   "source": [
    "#Welcome to Assignment-1"
   ]
  },
  {
   "cell_type": "code",
   "execution_count": 2,
   "id": "ea99ee6f",
   "metadata": {},
   "outputs": [
    {
     "name": "stdout",
     "output_type": "stream",
     "text": [
      "Welcome to Assignment-1\n"
     ]
    }
   ],
   "source": [
    "print(\"Welcome to Assignment-1\")"
   ]
  },
  {
   "cell_type": "code",
   "execution_count": 3,
   "id": "8a8c1d2d",
   "metadata": {},
   "outputs": [],
   "source": [
    "#Num1= 10\n",
    "#Num2= 30\n",
    "#Add= 40\n",
    "#Addition of 2 nos"
   ]
  },
  {
   "cell_type": "code",
   "execution_count": 4,
   "id": "18c06b79",
   "metadata": {},
   "outputs": [
    {
     "name": "stdout",
     "output_type": "stream",
     "text": [
      "Num1= 10\n",
      "Num2= 30\n",
      "Add= 40\n"
     ]
    }
   ],
   "source": [
    "Num1 = 10\n",
    "print(\"Num1=\",Num1)\n",
    "Num2 = 30\n",
    "print(\"Num2=\",Num2)\n",
    "Add = Num1 + Num2\n",
    "print(\"Add=\",Add)"
   ]
  },
  {
   "cell_type": "code",
   "execution_count": 5,
   "id": "d612c890",
   "metadata": {},
   "outputs": [],
   "source": [
    "#Body Mass Index\n",
    "#Enter the BMI Index:34\n",
    "#Very Overweight"
   ]
  },
  {
   "cell_type": "code",
   "execution_count": 12,
   "id": "65cf4dc1",
   "metadata": {},
   "outputs": [
    {
     "name": "stdout",
     "output_type": "stream",
     "text": [
      "Enter the BMI Index:34\n",
      "Very Overweight\n"
     ]
    }
   ],
   "source": [
    "BMI = int(input(\"Enter the BMI Index:\"))\n",
    "if(BMI <= 18.5):\n",
    "    print(\"Underweight\")\n",
    "elif(BMI < 22.9):\n",
    "    print(\"Normal\")\n",
    "elif(BMI < 24.9):\n",
    "    print(\"Overweight\")\n",
    "elif(BMI < 39.9):\n",
    "    print(\"Very Overweight\")\n",
    "else:\n",
    "    print(\"Obese\")"
   ]
  },
  {
   "cell_type": "code",
   "execution_count": null,
   "id": "4495c821",
   "metadata": {},
   "outputs": [],
   "source": []
  },
  {
   "cell_type": "code",
   "execution_count": null,
   "id": "bb362f01",
   "metadata": {},
   "outputs": [],
   "source": []
  }
 ],
 "metadata": {
  "kernelspec": {
   "display_name": "Python 3 (ipykernel)",
   "language": "python",
   "name": "python3"
  },
  "language_info": {
   "codemirror_mode": {
    "name": "ipython",
    "version": 3
   },
   "file_extension": ".py",
   "mimetype": "text/x-python",
   "name": "python",
   "nbconvert_exporter": "python",
   "pygments_lexer": "ipython3",
   "version": "3.11.5"
  }
 },
 "nbformat": 4,
 "nbformat_minor": 5
}
