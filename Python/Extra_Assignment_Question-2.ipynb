{
 "cells": [
  {
   "cell_type": "code",
   "execution_count": 1,
   "id": "aacc3a4d",
   "metadata": {},
   "outputs": [
    {
     "name": "stdout",
     "output_type": "stream",
     "text": [
      "0\n",
      "1\n",
      "2\n",
      "3\n",
      "4\n",
      "5\n",
      "6\n",
      "7\n",
      "8\n",
      "9\n",
      "10\n",
      "11\n",
      "12\n",
      "13\n",
      "14\n",
      "15\n",
      "16\n",
      "17\n",
      "18\n",
      "19\n"
     ]
    }
   ],
   "source": [
    "# print 0 to 20 by using range\n",
    "for num in range(0,20):\n",
    "    print(num)"
   ]
  },
  {
   "cell_type": "code",
   "execution_count": 11,
   "id": "57b61153",
   "metadata": {},
   "outputs": [
    {
     "name": "stdout",
     "output_type": "stream",
     "text": [
      "10 11 12 13 14 15 16 17 18 19 "
     ]
    }
   ],
   "source": [
    "# print range 10 to 20\n",
    "for num1 in range(10,20):\n",
    "    print (num1, end=' ')"
   ]
  },
  {
   "cell_type": "code",
   "execution_count": 16,
   "id": "d6f407f6",
   "metadata": {},
   "outputs": [
    {
     "name": "stdout",
     "output_type": "stream",
     "text": [
      "Number of item in the List2:\n",
      " 7\n"
     ]
    }
   ],
   "source": [
    "# Print number of items in the list by using 'len'\n",
    "#[10, 20, 14, 55, 43, 87, 76]\n",
    "#Number of item in the List2: \n",
    "#7\n",
    "\n",
    "num_list = [10, 20, 14, 55, 43, 87, 76]\n",
    "print(\"Number of item in the List2:\\n\",len(num_list))"
   ]
  },
  {
   "cell_type": "code",
   "execution_count": 17,
   "id": "3e59c17c",
   "metadata": {},
   "outputs": [
    {
     "name": "stdout",
     "output_type": "stream",
     "text": [
      "A\n",
      "r\n",
      "t\n",
      "i\n",
      "f\n",
      "i\n",
      "c\n",
      "i\n",
      "a\n",
      "l\n",
      " \n",
      "I\n",
      "n\n",
      "t\n",
      "e\n",
      "l\n",
      "l\n",
      "i\n",
      "g\n",
      "e\n",
      "n\n",
      "c\n",
      "e\n"
     ]
    }
   ],
   "source": [
    "#Print Artificial Intelligence \n",
    "str_value = 'Artificial Intelligence'\n",
    "for char in str_value:\n",
    "    print(char)"
   ]
  },
  {
   "cell_type": "code",
   "execution_count": 27,
   "id": "6f074f6f",
   "metadata": {},
   "outputs": [
    {
     "name": "stdout",
     "output_type": "stream",
     "text": [
      "-Kousalya-\n",
      "-30-\n",
      "-IT Developer-"
     ]
    }
   ],
   "source": [
    "#-Your Name-\n",
    "#-Your Age-\n",
    "#-Your Profession-\n",
    "name = 'Kousalya'\n",
    "age = 30\n",
    "profession = 'IT Developer'\n",
    "print(\"-\",name,sep='',end='-')\n",
    "print(\"\\n-\",age,sep='',end='-')\n",
    "print(\"\\n-\",profession,sep='',end='-')"
   ]
  },
  {
   "cell_type": "code",
   "execution_count": 28,
   "id": "8ac960bf",
   "metadata": {},
   "outputs": [
    {
     "name": "stdout",
     "output_type": "stream",
     "text": [
      "(1, 'Welcome', 2, 'Hope')\n"
     ]
    }
   ],
   "source": [
    "#Print this mixered datatype using Tuples\n",
    "#(1, 'Welcome', 2, 'Hope')\n",
    "\n",
    "mix_tuples = (1, 'Welcome', 2, 'Hope')\n",
    "print(mix_tuples)"
   ]
  },
  {
   "cell_type": "code",
   "execution_count": 29,
   "id": "b646b513",
   "metadata": {},
   "outputs": [
    {
     "name": "stdout",
     "output_type": "stream",
     "text": [
      "((0, 1, 2, 3), ('python', 'HOPE'))\n"
     ]
    }
   ],
   "source": [
    "#((0, 1, 2, 3), ('python', 'HOPE'))\n",
    "tuple1 = (0, 1, 2, 3)\n",
    "tuple2 = ('python', 'HOPE')\n",
    "nested_tuple = (tuple1,tuple2)\n",
    "print(nested_tuple)"
   ]
  },
  {
   "cell_type": "code",
   "execution_count": 30,
   "id": "ee457f73",
   "metadata": {},
   "outputs": [
    {
     "name": "stdout",
     "output_type": "stream",
     "text": [
      "19 is odd\n",
      "25 is odd\n",
      "1 is odd\n"
     ]
    }
   ],
   "source": [
    "# print Odd Numbers in the list\n",
    "#(20,10,16,19,25,1,276,188)\n",
    "#19 is odd\n",
    "#25 is odd\n",
    "#1 is odd\n",
    "\n",
    "list_tuple = (20,10,16,19,25,1,276,188)\n",
    "for num in list_tuple:\n",
    "    if num%2 == 1:\n",
    "        print(num,\"is odd\")\n",
    "    "
   ]
  },
  {
   "cell_type": "code",
   "execution_count": 31,
   "id": "55a78cc1",
   "metadata": {},
   "outputs": [
    {
     "name": "stdout",
     "output_type": "stream",
     "text": [
      "20 is even\n",
      "10 is even\n",
      "16 is even\n",
      "276 is even\n",
      "188 is even\n"
     ]
    }
   ],
   "source": [
    "# print Even numbers in the list\n",
    "list_tuple = (20,10,16,19,25,1,276,188)\n",
    "for num in list_tuple:\n",
    "    if num%2 == 0:\n",
    "        print(num,\"is even\")"
   ]
  },
  {
   "cell_type": "code",
   "execution_count": null,
   "id": "b95a703b",
   "metadata": {},
   "outputs": [],
   "source": []
  }
 ],
 "metadata": {
  "kernelspec": {
   "display_name": "Python 3 (ipykernel)",
   "language": "python",
   "name": "python3"
  },
  "language_info": {
   "codemirror_mode": {
    "name": "ipython",
    "version": 3
   },
   "file_extension": ".py",
   "mimetype": "text/x-python",
   "name": "python",
   "nbconvert_exporter": "python",
   "pygments_lexer": "ipython3",
   "version": "3.11.5"
  }
 },
 "nbformat": 4,
 "nbformat_minor": 5
}
